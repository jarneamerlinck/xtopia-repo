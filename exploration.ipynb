{
 "cells": [
  {
   "cell_type": "markdown",
   "metadata": {},
   "source": [
    "# Gezichtsherkenning\n"
   ]
  },
  {
   "cell_type": "markdown",
   "metadata": {},
   "source": [
    "## Loading packages\n",
    "Use conda environment: *xtopia-video*"
   ]
  },
  {
   "cell_type": "code",
   "execution_count": null,
   "metadata": {},
   "outputs": [],
   "source": [
    "import cv2\n",
    "from deepface import DeepFace\n",
    "import matplotlib.pyplot as plt"
   ]
  },
  {
   "cell_type": "markdown",
   "source": [
    "# Van statische image deepface analyse maken"
   ],
   "metadata": {
    "collapsed": false
   }
  },
  {
   "cell_type": "code",
   "execution_count": null,
   "outputs": [],
   "source": [
    "imgpath = 'Images/Neutral Face.jpg'  #put the image where this file is located and put its name here\n",
    "image = cv2.imread(imgpath)\n",
    "\n",
    "analyze = DeepFace.analyze(image)  # analyseren van de image met de analyze functie van de deepface package\n",
    "\n",
    "print(analyze)"
   ],
   "metadata": {
    "collapsed": false
   }
  },
  {
   "cell_type": "code",
   "execution_count": null,
   "outputs": [],
   "source": [
    "print(f\"dominante emotie: {analyze['dominant_emotion']}\") # printen dominante emotie"
   ],
   "metadata": {
    "collapsed": false
   }
  },
  {
   "cell_type": "code",
   "execution_count": null,
   "outputs": [],
   "source": [
    "# font = cv2.FONT_HERSHEY_SIMPLEX\n",
    "# cv2.putText(image,\n",
    "#             analyze['dominant_emotion'],\n",
    "#             (0, 50),\n",
    "#             font, 1,\n",
    "#             (0,0,255),\n",
    "#             2,\n",
    "#             cv2.LINE_4);\n",
    "#\n",
    "# plt.imshow(cv2.cvtColor(image, cv2.COLOR_YCrCb2RGB))"
   ],
   "metadata": {
    "collapsed": false,
    "pycharm": {
     "is_executing": true
    }
   }
  },
  {
   "cell_type": "markdown",
   "source": [
    "# Deepface analyse van Webcam input"
   ],
   "metadata": {
    "collapsed": false
   }
  },
  {
   "cell_type": "code",
   "execution_count": null,
   "outputs": [],
   "source": [
    "font = cv2.FONT_HERSHEY_SIMPLEX # font instellen voor emotie op webcam beeld te printen\n",
    "timer = 0   # timer om de deepface analyse maar op de zoveel keren van de while loop uit te laten voeren\n",
    "            # bv door maar op de 50 keer door de while te gaan een analyse maken, om geheugen te besparen\n",
    "\n",
    "\n",
    "face_cascade_name = cv2.data.haarcascades + 'haarcascade_frontalface_alt.xml'  #getting a haarcascade xml file\n",
    "face_cascade = cv2.CascadeClassifier()  #processing it for our project\n",
    "if not face_cascade.load(cv2.samples.findFile(face_cascade_name)):  #adding a fallback event\n",
    "    print(\"Error loading xml file\")\n",
    "\n",
    "video = cv2.VideoCapture(0) # parameter 0 omdat we maar 1 camera hebben (1 webcam), indien bv. 2 camera's -> parameter 1, enz ...\n",
    "\n",
    "# Check if the webcam is opened correctly\n",
    "if not video.isOpened():\n",
    "    raise IOError(\"Cannot open webcam\")\n",
    "\n",
    "while video.isOpened():  #checking if are getting video feed and using it\n",
    "    ret,frame = video.read() #  ret is a Boolean value returned by the read function, and it indicates whether or not the frame was captured                                successfully. If the frame is captured correctly, it's stored in the variable frame.\n",
    "\n",
    "    if not ret:\n",
    "        print(\"Can't receive frame (stream end?). Exiting ...\")\n",
    "        break\n",
    "\n",
    "    gray = cv2.cvtColor(frame, cv2.COLOR_BGR2GRAY)  #changing the video to grayscale to make the face analisis work properly\n",
    "    faces = face_cascade.detectMultiScale(gray, scaleFactor=1.1, minNeighbors=5)\n",
    "\n",
    "    for x,y,w,h in faces:\n",
    "\n",
    "      cv2.rectangle(frame, (x,y), (x+w,y+h), (0,0,255), 1)  # vierkant rond gezicht zetten + kleur\n",
    "\n",
    "    if timer % 50 == 0:    # voer analyse maar uit op de 50 keer door de while te gaan\n",
    "        #making a try and except condition in case of any errors\n",
    "        try:\n",
    "          analyze = DeepFace.analyze(frame)\n",
    "          result = analyze['dominant_emotion']\n",
    "        except:\n",
    "          result = \"no face\"\n",
    "          #print(\"no face\")\n",
    "\n",
    "    # emotie op webcam beeld afdrukken\n",
    "    cv2.putText(frame,\n",
    "                result,\n",
    "                (0, 50),\n",
    "                font, 1,\n",
    "                (0,0,255),\n",
    "                2,\n",
    "                cv2.LINE_4)\n",
    "\n",
    "    if(timer < 500):\n",
    "        timer+=1 # timer incrementeren\n",
    "    else:\n",
    "        timer = 0 # timer resetten, zodat deze niet te groot wordt\n",
    "\n",
    "    #this is the part where we display the output to the user\n",
    "    cv2.imshow('video', frame)\n",
    "\n",
    "    if cv2.waitKey(1) == ord('q'): # klik op 'q' toets op af te sluiten\n",
    "        break\n",
    "\n",
    "    print(timer)\n",
    "\n",
    "\n",
    "video.release()\n",
    "cv2.destroyAllWindows()"
   ],
   "metadata": {
    "collapsed": false
   }
  },
  {
   "cell_type": "code",
   "execution_count": null,
   "outputs": [],
   "source": [],
   "metadata": {
    "collapsed": false
   }
  }
 ],
 "metadata": {
  "kernelspec": {
   "display_name": "Python 3.10.6 64-bit",
   "language": "python",
   "name": "python3"
  },
  "language_info": {
   "name": "python",
   "version": "3.10.6"
  },
  "orig_nbformat": 4,
  "vscode": {
   "interpreter": {
    "hash": "916dbcbb3f70747c44a77c7bcd40155683ae19c65e1c03b4aa3499c5328201f1"
   }
  }
 },
 "nbformat": 4,
 "nbformat_minor": 2
}
